{
 "cells": [
  {
   "cell_type": "markdown",
   "id": "2667e378-46cf-4a43-812f-fbfa1195359a",
   "metadata": {},
   "source": [
    "# 금융감독원 - 회계감리결과제재 (similar to SEC AAERs in United States)\n",
    "### This code downloads the list of Korean companies sanctioned by Korean Financial Supervisory Service (FSS)\n",
    "### Korean FSS is the regulatory body like SEC in the United States."
   ]
  },
  {
   "cell_type": "code",
   "execution_count": 6,
   "id": "f5b28e62-4714-4857-991c-4b5947ccae5f",
   "metadata": {},
   "outputs": [
    {
     "data": {
      "application/vnd.jupyter.widget-view+json": {
       "model_id": "a27314b8fc1148c9bc7ce58c4502e45b",
       "version_major": 2,
       "version_minor": 0
      },
      "text/plain": [
       "  0%|          | 0/10 [00:00<?, ?it/s]"
      ]
     },
     "metadata": {},
     "output_type": "display_data"
    }
   ],
   "source": [
    "from tqdm.notebook import tqdm\n",
    "import pandas as pd\n",
    "import csv\n",
    "\n",
    "last_page= 10 # should be manually updated. There are 10 pages as of Nov 19, 2021.\n",
    "basic_url= f\"https://acct.fss.or.kr/fss/acc/insp_bbs/insp_comp_l.jsp?p_end_date=&find2.x=0&find2.y=0&p_company_name=&p_start_date=&page=\"\n",
    "\n",
    "fss_reviews=pd.DataFrame()\n",
    "for i in tqdm(range(last_page)):\n",
    "    page_url= basic_url+ str(1+i)\n",
    "    table= pd.read_html(page_url)[0]\n",
    "    table.drop(columns= ['Unnamed: 5'], inplace=True)\n",
    "    table.columns= ['No', 'Name', 'ReviewPeriod', 'SanctionDate', 'Market']\n",
    "    \n",
    "    fss_reviews= fss_reviews.append(table)\n",
    "    fss_reviews.to_excel(\"fss_review.xlsx\")"
   ]
  },
  {
   "cell_type": "code",
   "execution_count": 7,
   "id": "8c4c7730-91f1-40a2-b909-ed880752ed01",
   "metadata": {},
   "outputs": [
    {
     "data": {
      "text/html": [
       "<div>\n",
       "<style scoped>\n",
       "    .dataframe tbody tr th:only-of-type {\n",
       "        vertical-align: middle;\n",
       "    }\n",
       "\n",
       "    .dataframe tbody tr th {\n",
       "        vertical-align: top;\n",
       "    }\n",
       "\n",
       "    .dataframe thead th {\n",
       "        text-align: right;\n",
       "    }\n",
       "</style>\n",
       "<table border=\"1\" class=\"dataframe\">\n",
       "  <thead>\n",
       "    <tr style=\"text-align: right;\">\n",
       "      <th></th>\n",
       "      <th>No</th>\n",
       "      <th>Name</th>\n",
       "      <th>ReviewPeriod</th>\n",
       "      <th>SanctionDate</th>\n",
       "      <th>Market</th>\n",
       "    </tr>\n",
       "  </thead>\n",
       "  <tbody>\n",
       "    <tr>\n",
       "      <th>0</th>\n",
       "      <td>98</td>\n",
       "      <td>㈜예스코홀딩스</td>\n",
       "      <td>2018~2019.9</td>\n",
       "      <td>2021-12-01</td>\n",
       "      <td>유가증권시장</td>\n",
       "    </tr>\n",
       "    <tr>\n",
       "      <th>1</th>\n",
       "      <td>97</td>\n",
       "      <td>㈜코디</td>\n",
       "      <td>2015~2017.9</td>\n",
       "      <td>2021-10-01</td>\n",
       "      <td>코스닥시장</td>\n",
       "    </tr>\n",
       "    <tr>\n",
       "      <th>2</th>\n",
       "      <td>96</td>\n",
       "      <td>나노캠텍㈜</td>\n",
       "      <td>2018~2019.6</td>\n",
       "      <td>2021-10-01</td>\n",
       "      <td>코스닥시장</td>\n",
       "    </tr>\n",
       "    <tr>\n",
       "      <th>3</th>\n",
       "      <td>95</td>\n",
       "      <td>㈜제낙스</td>\n",
       "      <td>2011~2019.9</td>\n",
       "      <td>2021-09-15</td>\n",
       "      <td>기타</td>\n",
       "    </tr>\n",
       "    <tr>\n",
       "      <th>4</th>\n",
       "      <td>94</td>\n",
       "      <td>㈜엘앤케이바이오메드</td>\n",
       "      <td>2017~2018.9</td>\n",
       "      <td>2021-09-01</td>\n",
       "      <td>코스닥시장</td>\n",
       "    </tr>\n",
       "    <tr>\n",
       "      <th>...</th>\n",
       "      <td>...</td>\n",
       "      <td>...</td>\n",
       "      <td>...</td>\n",
       "      <td>...</td>\n",
       "      <td>...</td>\n",
       "    </tr>\n",
       "    <tr>\n",
       "      <th>3</th>\n",
       "      <td>5</td>\n",
       "      <td>제이더블유중외제약(주)</td>\n",
       "      <td>2014~2016</td>\n",
       "      <td>2019-01-23</td>\n",
       "      <td>유가증권시장</td>\n",
       "    </tr>\n",
       "    <tr>\n",
       "      <th>4</th>\n",
       "      <td>4</td>\n",
       "      <td>(주)자형매니지먼트</td>\n",
       "      <td>2015~2016</td>\n",
       "      <td>2019-01-09</td>\n",
       "      <td>기타</td>\n",
       "    </tr>\n",
       "    <tr>\n",
       "      <th>5</th>\n",
       "      <td>3</td>\n",
       "      <td>(주)디알비동일</td>\n",
       "      <td>2015~2016</td>\n",
       "      <td>2019-01-09</td>\n",
       "      <td>유가증권시장</td>\n",
       "    </tr>\n",
       "    <tr>\n",
       "      <th>6</th>\n",
       "      <td>2</td>\n",
       "      <td>(주)제이에스피브이</td>\n",
       "      <td>2014~2017</td>\n",
       "      <td>2018-12-12</td>\n",
       "      <td>기타</td>\n",
       "    </tr>\n",
       "    <tr>\n",
       "      <th>7</th>\n",
       "      <td>1</td>\n",
       "      <td>참엔지니어링(주)</td>\n",
       "      <td>2009~2014</td>\n",
       "      <td>2018-12-12</td>\n",
       "      <td>유가증권시장</td>\n",
       "    </tr>\n",
       "  </tbody>\n",
       "</table>\n",
       "<p>98 rows × 5 columns</p>\n",
       "</div>"
      ],
      "text/plain": [
       "    No          Name ReviewPeriod SanctionDate  Market\n",
       "0   98       ㈜예스코홀딩스  2018~2019.9   2021-12-01  유가증권시장\n",
       "1   97           ㈜코디  2015~2017.9   2021-10-01   코스닥시장\n",
       "2   96         나노캠텍㈜  2018~2019.6   2021-10-01   코스닥시장\n",
       "3   95          ㈜제낙스  2011~2019.9   2021-09-15      기타\n",
       "4   94    ㈜엘앤케이바이오메드  2017~2018.9   2021-09-01   코스닥시장\n",
       "..  ..           ...          ...          ...     ...\n",
       "3    5  제이더블유중외제약(주)    2014~2016   2019-01-23  유가증권시장\n",
       "4    4    (주)자형매니지먼트    2015~2016   2019-01-09      기타\n",
       "5    3      (주)디알비동일    2015~2016   2019-01-09  유가증권시장\n",
       "6    2    (주)제이에스피브이    2014~2017   2018-12-12      기타\n",
       "7    1     참엔지니어링(주)    2009~2014   2018-12-12  유가증권시장\n",
       "\n",
       "[98 rows x 5 columns]"
      ]
     },
     "execution_count": 7,
     "metadata": {},
     "output_type": "execute_result"
    }
   ],
   "source": [
    "fss_reviews"
   ]
  },
  {
   "cell_type": "code",
   "execution_count": 8,
   "id": "9f3d07dc-ace9-47a9-b9c6-f03408d30156",
   "metadata": {},
   "outputs": [
    {
     "name": "stdout",
     "output_type": "stream",
     "text": [
      "The total number of sanctioned cases: 98\n"
     ]
    }
   ],
   "source": [
    "print(f\"The total number of sanctioned cases: {len(fss_reviews)}\")"
   ]
  }
 ],
 "metadata": {
  "kernelspec": {
   "display_name": "sec",
   "language": "python",
   "name": "sec"
  },
  "language_info": {
   "codemirror_mode": {
    "name": "ipython",
    "version": 3
   },
   "file_extension": ".py",
   "mimetype": "text/x-python",
   "name": "python",
   "nbconvert_exporter": "python",
   "pygments_lexer": "ipython3",
   "version": "3.8.8"
  }
 },
 "nbformat": 4,
 "nbformat_minor": 5
}
